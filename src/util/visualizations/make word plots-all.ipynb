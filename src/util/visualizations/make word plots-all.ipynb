{
 "cells": [
  {
   "cell_type": "code",
   "execution_count": 1,
   "metadata": {},
   "outputs": [
    {
     "name": "stdout",
     "output_type": "stream",
     "text": [
      "SNLI\n",
      "MNLI-matched\n",
      "MNLI-mismatched\n",
      "SciTail\n",
      "JOCI\n",
      "ADD-1\n",
      "DPR\n",
      "FN+\n",
      "SPR\n",
      "MPE\n"
     ]
    }
   ],
   "source": [
    "import pandas as pd\n",
    "import numpy as np\n",
    "import seaborn as sns\n",
    "import matplotlib.pyplot as plt\n",
    "\n",
    "min_percent = 0\n",
    "\n",
    "for f_name in [\"SNLI\",  \"MNLI-matched\", \"MNLI-mismatched\", \"SciTail\", \"JOCI\", \"ADD-1\", \"DPR\", \"FN+\", \"SPR\", \"MPE\"]:\n",
    "    df = pd.read_pickle(\"better-table-pkls/%s_sents_prob_count.pkl\" % (f_name))\n",
    "    f, ax_tuple = plt.subplots(len(set(df['gold-lbl'])), 1)#, sharey=True)\n",
    "    f.set_size_inches(11.7, 8.27)\n",
    "    for lbl, ax_ext in zip(set(df['gold-lbl']), ax_tuple):\n",
    "        #small_df = df[df['gold-lbl'] == lbl]\n",
    "        #new_df = pd.DataFrame(columns=['percent', 'num_sents'])\n",
    "        #for percent in set(small_df.percent):\n",
    "            #print percent\n",
    "        #    tot = len(small_df[small_df['percent'] >= percent]['num_sents'])\n",
    "            #print tot\n",
    "        #    new_df = new_df.append({'percent': percent, 'num_sents': tot},ignore_index=True)\n",
    "        new_df = df[df['gold-lbl'] == lbl]\n",
    "        #plt.figure()\n",
    "        ax = sns.barplot(data=new_df, x=\"percent\", y=\"num_sents\", ax=ax_ext)\n",
    "        ax.set_xticklabels([])\n",
    "        ax.set_title(lbl)\n",
    "        ax.set(ylabel='# sentences', xlabel='')\n",
    "        start, end = ax.get_xlim()\n",
    "        #print start, end\n",
    "        #plt.bar(new_df.percent, new_df.sents_with_word)\n",
    "        #print plt.xticks()\n",
    "        # b = np.arange(start, end, 1)\n",
    "        # print b\n",
    "        # c = [x for i, x in enumerate(b) if i %5 == 0]\n",
    "        d = np.linspace(0, 1, len(plt.xticks()[0]))\n",
    "        #print (d)\n",
    "        e = [round(x, 2) if i %25 == 0 else '' for i, x in enumerate(d)]\n",
    "        #print (e)\n",
    "        #print c\n",
    "        if ax_ext == ax_tuple[-1]:\n",
    "            ax.xaxis.set_ticklabels(e) #np.arange(start, end, 10))\n",
    "            plt.xticks(rotation=25)\n",
    "        #plt.savefig('better-table-pkls/%s-%s.pdf' % (f_name, lbl))\n",
    "        #plt.clf()\n",
    "        \n",
    "        \n",
    "    print f_name\n",
    "    plt.savefig('better-table-pkls/%s-percent.pdf' % (f_name))\n",
    "    plt.clf()"
   ]
  },
  {
   "cell_type": "code",
   "execution_count": null,
   "metadata": {},
   "outputs": [],
   "source": [
    "'''\n",
    "%matplotlib inline\n",
    "\n",
    "for \n",
    "plt.plot(df[df['gold-lbl'] == 'entailment'].num_sents)\n",
    "'''\n"
   ]
  },
  {
   "cell_type": "code",
   "execution_count": null,
   "metadata": {
    "collapsed": true
   },
   "outputs": [],
   "source": [
    "start, end = ax.get_xlim()"
   ]
  },
  {
   "cell_type": "code",
   "execution_count": null,
   "metadata": {},
   "outputs": [],
   "source": [
    "start"
   ]
  },
  {
   "cell_type": "code",
   "execution_count": null,
   "metadata": {},
   "outputs": [],
   "source": [
    "end"
   ]
  },
  {
   "cell_type": "code",
   "execution_count": null,
   "metadata": {
    "collapsed": true
   },
   "outputs": [],
   "source": []
  }
 ],
 "metadata": {
  "kernelspec": {
   "display_name": "Python [conda env:NMT]",
   "language": "python",
   "name": "conda-env-NMT-py"
  },
  "language_info": {
   "codemirror_mode": {
    "name": "ipython",
    "version": 2
   },
   "file_extension": ".py",
   "mimetype": "text/x-python",
   "name": "python",
   "nbconvert_exporter": "python",
   "pygments_lexer": "ipython2",
   "version": "2.7.13"
  }
 },
 "nbformat": 4,
 "nbformat_minor": 2
}
